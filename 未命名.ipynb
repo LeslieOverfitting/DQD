{
 "cells": [
  {
   "cell_type": "code",
   "execution_count": 1,
   "metadata": {},
   "outputs": [],
   "source": [
    "import pandas as pd"
   ]
  },
  {
   "cell_type": "code",
   "execution_count": 2,
   "metadata": {},
   "outputs": [],
   "source": [
    "df = pd.read_csv('data/train_dqd.csv')"
   ]
  },
  {
   "cell_type": "code",
   "execution_count": 8,
   "metadata": {},
   "outputs": [],
   "source": [
    "df['q1_len'] = df['question1'].astype(str).apply(lambda x: x.split(' ')).apply(len)"
   ]
  },
  {
   "cell_type": "code",
   "execution_count": 9,
   "metadata": {},
   "outputs": [
    {
     "data": {
      "text/plain": [
       "0    14\n",
       "1     8\n",
       "2    14\n",
       "3    11\n",
       "4    13\n",
       "Name: q1_len, dtype: int64"
      ]
     },
     "execution_count": 9,
     "metadata": {},
     "output_type": "execute_result"
    }
   ],
   "source": [
    "df['q1_len'].head()"
   ]
  },
  {
   "cell_type": "code",
   "execution_count": 10,
   "metadata": {},
   "outputs": [],
   "source": [
    "import matplotlib.pyplot as plt\n",
    "\n",
    "# We will use the Seaborn library\n",
    "import seaborn as sns\n",
    "sns.set()\n",
    "\n",
    "# Graphics in retina format are more sharp and legible\n",
    "%config InlineBackend.figure_format = 'retina'"
   ]
  },
  {
   "cell_type": "code",
   "execution_count": 11,
   "metadata": {},
   "outputs": [
    {
     "data": {
      "text/plain": [
       "<matplotlib.axes._subplots.AxesSubplot at 0x7f06e636c750>"
      ]
     },
     "execution_count": 11,
     "metadata": {},
     "output_type": "execute_result"
    },
    {
     "data": {
      "image/png": "[encoded data removed]",
      "text/plain": [
       "<Figure size 432x288 with 1 Axes>"
      ]
     },
     "metadata": {
      "image/png": {
       "height": 267,
       "width": 383
      },
      "needs_background": "light"
     },
     "output_type": "display_data"
    }
   ],
   "source": [
    "sns.distplot(df['q1_len'])"
   ]
  },
  {
   "cell_type": "code",
   "execution_count": 20,
   "metadata": {},
   "outputs": [],
   "source": [
    "import spacy\n",
    "import numpy as np\n",
    "import pickle\n",
    "import pandas as pd\n",
    "from tqdm import tqdm\n",
    "\n",
    "nlp = spacy.load('en_core_web_sm')\n",
    "\n",
    "class PrepocessData:\n",
    "    def __init__(self):\n",
    "        pass\n",
    "\n",
    "    def read_glove(self, file_path, dim=300):\n",
    "        print('read glove')\n",
    "        emb_dict = {}\n",
    "        with open(file_path, encoding='utf-8') as f:\n",
    "            for line in tqdm(f):\n",
    "                tokens = line.strip().split(' ')\n",
    "                emb_dict[tokens[0]] = list(map(lambda x: float(x), tokens[1:]))\n",
    "        print('read glove over')\n",
    "        return emb_dict\n",
    "\n",
    "    def read_data(self, data_path, max_len =30):\n",
    "        data_df = pd.read_csv(data_path)\n",
    "        data_df = data_df[['id', 'question1', 'question2', 'is_duplicate']]\n",
    "        data_df['question1'].apply(str)\n",
    "        data_df['question1_len'] = data_df['question1'].apply(lambda x: min(max_len, len(x)))\n",
    "        data_df['question2'].apply(str)\n",
    "        data_df['question2_len'] = data_df['question2'].apply(lambda x: min(max_len, len(x)))\n",
    "        data_df['id'].apply(str)\n",
    "        data_df['is_duplicate'].apply(int)\n",
    "        data = {\n",
    "            \"id\": data_df['id'].values.tolist(),\n",
    "            \"question1\": data_df['question1'].values.tolist(),\n",
    "            \"question2\": data_df['question2'].values.tolist(),\n",
    "            \"question1_len\": np.asarray(data_df['question1_len'].values.tolist(), dtype=np.int32),\n",
    "            \"question2_len\": np.asarray(data_df['question2_len'].values.tolist(), dtype=np.int32),\n",
    "            \"label\": np.asarray(data_df['is_duplicate'].values.tolist(), dtype=np.float32),\n",
    "        }\n",
    "        data['question1'] = list(map(self.tokenize_sentence, data['question1']))\n",
    "        data['question2'] = list(map(self.tokenize_sentence, data['question2']))\n",
    "        return data    \n",
    "    def tokenize_sentence(self, sentence):\n",
    "        if sentence is None:\n",
    "            return []\n",
    "        sentence = sentence.strip().replace('`',\"'\")\n",
    "        doc = nlp.tokenizer(sentence)\n",
    "        tokens = [token.lower_ for token in doc]\n",
    "        return tokens\n",
    "\n",
    "    def build_word_embedding_bysentetnce(self, sentence, pre_train_emb, word2Index, word_emb):\n",
    "        for word in sentence:\n",
    "            if word not in word2Index:\n",
    "                if word in pre_train_emb:\n",
    "                    word2Index[word] = len(word2Index)\n",
    "                    word_emb.append(pre_train_emb[word])\n",
    "                else:\n",
    "                    pass\n",
    "            else:\n",
    "                pass    \n",
    "\n",
    "    def build_word_embedding(self, data, pre_train_path, dim = 300):\n",
    "        pre_train_emb = self.read_glove(pre_train_path)\n",
    "        word2Index = {'PAD': 0, 'UNK':1}\n",
    "        word_emb = [np.random.uniform(-0.1, 0.1, dim) for _ in range(2)]\n",
    "        question1 = data[\"question1\"]\n",
    "        question2 = data[\"question2\"]\n",
    "        for i in tqdm(range(len(question1))):\n",
    "            self.build_word_embedding_bysentetnce(question1[i], pre_train_emb, word2Index, word_emb)\n",
    "            self.build_word_embedding_bysentetnce(question2[i], pre_train_emb, word2Index, word_emb)\n",
    "        word_emb = np.asarray(word_emb, dtype='float32')\n",
    "        return word_emb, word2Index\n",
    "\n",
    "    def build_train_test_data(self, config):\n",
    "        data = self.read_data(config.data_file_path)\n",
    "        padded_data = self.padding_question(data, 30)\n",
    "        word2Index = self.load_word2Index(config.word2Index_path)\n",
    "        word_emb = self.load_word_emb(config.word_emb_path)\n",
    "        self.transform_to_indices(data, word2Index)\n",
    "        data_indexed = list(zip(data['question1'], data['question1_len'], data['question2'], data['question2_len'], data['label']))\n",
    "        train_data, test_data = self.split_dataset(data_indexed)\n",
    "        return train_data, test_data, word_emb\n",
    "\n",
    "    def split_dataset(self, data):\n",
    "        np.random.seed(123)\n",
    "        np.random.shuffle(data)\n",
    "        length = len(data)\n",
    "        train_set = data[:int(length * 0.9)]\n",
    "        test_set = data[int(length * 0.9): ]\n",
    "        return train_set, test_set\n",
    "\n",
    "    def transform_to_indices(self, data, word2Index):\n",
    "        data['question1'] = list(map(lambda question: [word2Index.get(word, 1) for word in question], data['question1']))\n",
    "        data['question2'] = list(map(lambda question: [word2Index.get(word, 1) for word in question], data['question2']))\n",
    "\n",
    "    def padding_question(self, data, max_len=30):\n",
    "        data['question1'] = list(map(lambda question: question[:max_len] + ['PAD'] * max(0, max_len - len(question)), data['question1']))\n",
    "        data['question2'] = list(map(lambda question: question[:max_len] + ['PAD'] * max(0, max_len - len(question)), data['question2']))\n",
    "\n",
    "    def save_word_emb(self, word_emb, word_emb_path):\n",
    "        with open(word_emb_path, mode='wb') as f:\n",
    "            pickle.dump(word_emb, f)\n",
    "        print('word emb saved')\n",
    "\n",
    "    def load_word_emb(self, word_emb_path):\n",
    "        with open(word_emb_path, mode='rb') as f:\n",
    "            word_emb = pickle.load(f)\n",
    "        return word_emb\n",
    "    \n",
    "    def save_word2Index(self, word2Index, word2Index_path):\n",
    "        with open(word2Index_path, mode='wb') as f:\n",
    "            pickle.dump(word2Index, f)\n",
    "        print('word2Index saved')\n",
    "\n",
    "    def load_word2Index(self, word2Index_path):\n",
    "        with open(word2Index_path, mode='rb') as f:\n",
    "            word2Index = pickle.load(f)\n",
    "        return word2Index\n",
    "   \n"
   ]
  },
  {
   "cell_type": "code",
   "execution_count": 21,
   "metadata": {},
   "outputs": [],
   "source": [
    "prepocess_data = PrepocessData()"
   ]
  },
  {
   "cell_type": "code",
   "execution_count": null,
   "metadata": {},
   "outputs": [],
   "source": []
  },
  {
   "cell_type": "code",
   "execution_count": 22,
   "metadata": {},
   "outputs": [],
   "source": [
    "import train\n",
    "from models.biMPM import BIMPM\n",
    "from models.esim import ESIM\n",
    "from config import Config\n",
    "import torch"
   ]
  },
  {
   "cell_type": "code",
   "execution_count": 23,
   "metadata": {},
   "outputs": [],
   "source": [
    "config = Config()"
   ]
  },
  {
   "cell_type": "code",
   "execution_count": 24,
   "metadata": {},
   "outputs": [],
   "source": [
    "train_data, test_data, word_emb = prepocess_data.build_train_test_data(config)"
   ]
  },
  {
   "cell_type": "code",
   "execution_count": 35,
   "metadata": {},
   "outputs": [],
   "source": [
    "word_emb = torch.tensor(word_emb, dtype=torch.float,requires_grad=False).to(config.device)"
   ]
  },
  {
   "cell_type": "code",
   "execution_count": 36,
   "metadata": {},
   "outputs": [],
   "source": [
    "config.n_vocab = len(word_emb)"
   ]
  },
  {
   "cell_type": "code",
   "execution_count": 70,
   "metadata": {},
   "outputs": [],
   "source": [
    "import models.esim\n",
    "import dataset_iterator\n",
    "import utils\n",
    "import imp\n",
    "imp.reload(models.esim)\n",
    "imp.reload(utils)\n",
    "imp.reload(dataset_iterator)\n",
    "from models.esim import ESIM"
   ]
  },
  {
   "cell_type": "code",
   "execution_count": 71,
   "metadata": {},
   "outputs": [],
   "source": [
    "from dataset_iterator import DatasetIterator"
   ]
  },
  {
   "cell_type": "code",
   "execution_count": 72,
   "metadata": {
    "scrolled": true
   },
   "outputs": [],
   "source": [
    "train_iterator = DatasetIterator(train_data, config.batch_size, config.device)\n",
    "test_iterator = DatasetIterator(test_data, config.batch_size, config.device)"
   ]
  },
  {
   "cell_type": "code",
   "execution_count": 67,
   "metadata": {},
   "outputs": [],
   "source": []
  },
  {
   "cell_type": "code",
   "execution_count": 73,
   "metadata": {
    "scrolled": true
   },
   "outputs": [
    {
     "name": "stdout",
     "output_type": "stream",
     "text": [
      "Seq2SeqEncoder input_size 300\n",
      "Seq2SeqEncoder input_size 200\n"
     ]
    }
   ],
   "source": [
    "model = ESIM(config.n_vocab, config.hidden_size, config.emb_dim, word_emb, config.n_classes, config.padding_idx, config.dropout, config.lstm_layer, config.device)"
   ]
  },
  {
   "cell_type": "code",
   "execution_count": 2,
   "metadata": {
    "scrolled": false
   },
   "outputs": [],
   "source": [
    "import torch\n",
    "import torch.nn as nn\n",
    "import torch.nn.functional as F"
   ]
  },
  {
   "cell_type": "code",
   "execution_count": 13,
   "metadata": {},
   "outputs": [],
   "source": [
    "a = torch.rand(4,3, 2)\n",
    "b= torch.rand(1,3, 2)"
   ]
  },
  {
   "cell_type": "code",
   "execution_count": 14,
   "metadata": {},
   "outputs": [],
   "source": [
    "c =F.cosine_similarity(a, b, dim =-1)"
   ]
  },
  {
   "cell_type": "code",
   "execution_count": 15,
   "metadata": {},
   "outputs": [
    {
     "data": {
      "text/plain": [
       "torch.Size([4, 3])"
      ]
     },
     "execution_count": 15,
     "metadata": {},
     "output_type": "execute_result"
    }
   ],
   "source": [
    "c.size()"
   ]
  },
  {
   "cell_type": "code",
   "execution_count": 18,
   "metadata": {},
   "outputs": [],
   "source": [
    "a = torch.rand(4,4, 6)"
   ]
  },
  {
   "cell_type": "code",
   "execution_count": 19,
   "metadata": {},
   "outputs": [
    {
     "data": {
      "text/plain": [
       "tensor([[[0.2156, 0.2269, 0.1982, 0.2186, 0.8822, 0.4786],\n",
       "         [0.4274, 0.9836, 0.1181, 0.1014, 0.7548, 0.5529],\n",
       "         [0.3305, 0.1201, 0.1877, 0.0476, 0.2950, 0.9884],\n",
       "         [0.1239, 0.4881, 0.7369, 0.9669, 0.3797, 0.1264]],\n",
       "\n",
       "        [[0.9164, 0.0751, 0.1254, 0.5563, 0.1609, 0.0268],\n",
       "         [0.0772, 0.0474, 0.3034, 0.6345, 0.7949, 0.1048],\n",
       "         [0.0649, 0.1473, 0.2948, 0.4719, 0.1453, 0.3159],\n",
       "         [0.0084, 0.2595, 0.0371, 0.3839, 0.2291, 0.4502]],\n",
       "\n",
       "        [[0.0198, 0.6461, 0.5706, 0.9315, 0.6931, 0.7113],\n",
       "         [0.0265, 0.2278, 0.9299, 0.0391, 0.7781, 0.3325],\n",
       "         [0.1637, 0.9106, 0.7197, 0.0071, 0.1658, 0.3913],\n",
       "         [0.2570, 0.7387, 0.1775, 0.0534, 0.6075, 0.8725]],\n",
       "\n",
       "        [[0.7111, 0.9511, 0.1751, 0.9115, 0.4607, 0.9743],\n",
       "         [0.8646, 0.1437, 0.4807, 0.5408, 0.5377, 0.4163],\n",
       "         [0.7986, 0.5797, 0.7862, 0.9538, 0.9909, 0.2586],\n",
       "         [0.1362, 0.4527, 0.5664, 0.5680, 0.8672, 0.1423]]])"
      ]
     },
     "execution_count": 19,
     "metadata": {},
     "output_type": "execute_result"
    }
   ],
   "source": [
    "a"
   ]
  },
  {
   "cell_type": "code",
   "execution_count": 26,
   "metadata": {},
   "outputs": [
    {
     "ename": "RuntimeError",
     "evalue": "avg_pool1d() argument 'kernel_size' should contain one int (got 2)",
     "output_type": "error",
     "traceback": [
      "\u001b[0;31m---------------------------------------------------------------------------\u001b[0m",
      "\u001b[0;31mRuntimeError\u001b[0m                              Traceback (most recent call last)",
      "\u001b[0;32m<ipython-input-26-c6c94e858fa2>\u001b[0m in \u001b[0;36m<module>\u001b[0;34m\u001b[0m\n\u001b[0;32m----> 1\u001b[0;31m \u001b[0mc\u001b[0m \u001b[0;34m=\u001b[0m \u001b[0mF\u001b[0m\u001b[0;34m.\u001b[0m\u001b[0mavg_pool1d\u001b[0m\u001b[0;34m(\u001b[0m\u001b[0ma\u001b[0m\u001b[0;34m,\u001b[0m \u001b[0mkernel_size\u001b[0m\u001b[0;34m=\u001b[0m\u001b[0;34m(\u001b[0m\u001b[0;36m4\u001b[0m\u001b[0;34m,\u001b[0m\u001b[0;36m1\u001b[0m\u001b[0;34m)\u001b[0m\u001b[0;34m,\u001b[0m \u001b[0mstride\u001b[0m\u001b[0;34m=\u001b[0m\u001b[0;36m1\u001b[0m\u001b[0;34m)\u001b[0m\u001b[0;34m\u001b[0m\u001b[0;34m\u001b[0m\u001b[0m\n\u001b[0m",
      "\u001b[0;31mRuntimeError\u001b[0m: avg_pool1d() argument 'kernel_size' should contain one int (got 2)"
     ]
    }
   ],
   "source": [
    "c = F.avg_pool1d(a, kernel_size=(4,1), stride=1)"
   ]
  },
  {
   "cell_type": "code",
   "execution_count": 27,
   "metadata": {},
   "outputs": [
    {
     "data": {
      "text/plain": [
       "tensor([[0.2744, 0.4547, 0.3102, 0.3336, 0.5779, 0.5366],\n",
       "        [0.2667, 0.1323, 0.1902, 0.5116, 0.3325, 0.2244],\n",
       "        [0.1167, 0.6308, 0.5994, 0.2578, 0.5611, 0.5769],\n",
       "        [0.6276, 0.5318, 0.5021, 0.7435, 0.7141, 0.4479]])"
      ]
     },
     "execution_count": 27,
     "metadata": {},
     "output_type": "execute_result"
    }
   ],
   "source": [
    "a.mean(dim=1)"
   ]
  },
  {
   "cell_type": "code",
   "execution_count": 28,
   "metadata": {},
   "outputs": [
    {
     "data": {
      "text/plain": [
       "0.27435"
      ]
     },
     "execution_count": 28,
     "metadata": {},
     "output_type": "execute_result"
    }
   ],
   "source": [
    "(0.2156 + 0.4274 + 0.3305 +0.1239) /4 "
   ]
  },
  {
   "cell_type": "code",
   "execution_count": null,
   "metadata": {},
   "outputs": [],
   "source": []
  }
 ],
 "metadata": {
  "kernelspec": {
   "display_name": "Python 3",
   "language": "python",
   "name": "python3"
  },
  "language_info": {
   "codemirror_mode": {
    "name": "ipython",
    "version": 3
   },
   "file_extension": ".py",
   "mimetype": "text/x-python",
   "name": "python",
   "nbconvert_exporter": "python",
   "pygments_lexer": "ipython3",
   "version": "3.7.4"
  }
 },
 "nbformat": 4,
 "nbformat_minor": 2
}
